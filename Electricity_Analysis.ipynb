{
 "cells": [
  {
   "cell_type": "code",
   "execution_count": 1,
   "id": "34d5479b",
   "metadata": {},
   "outputs": [],
   "source": [
    "import pandas as pd\n",
    "import numpy as np\n",
    "import requests\n",
    "import json\n",
    "from dotenv import load_dotenv\n",
    "import os"
   ]
  },
  {
   "cell_type": "code",
   "execution_count": 22,
   "id": "cbcee42a",
   "metadata": {},
   "outputs": [
    {
     "name": "stdout",
     "output_type": "stream",
     "text": [
      "dict_keys(['warnings', 'response', 'request', 'apiVersion', 'ExcelAddInVersion'])\n",
      "          period respondent                             respondent-name type  \\\n",
      "0  2025-08-16T07        AVA                          Avista Corporation   DF   \n",
      "1  2025-08-16T07       AZPS              Arizona Public Service Company   DF   \n",
      "2  2025-08-16T07       BANC  Balancing Authority of Northern California   DF   \n",
      "3  2025-08-16T07       BPAT             Bonneville Power Administration   DF   \n",
      "4  2025-08-16T07        CAL                                  California   DF   \n",
      "\n",
      "                   type-name  value    value-units  \n",
      "0  Day-ahead demand forecast   1265  megawatthours  \n",
      "1  Day-ahead demand forecast   4860  megawatthours  \n",
      "2  Day-ahead demand forecast   2331  megawatthours  \n",
      "3  Day-ahead demand forecast   6038  megawatthours  \n",
      "4  Day-ahead demand forecast  34319  megawatthours  \n"
     ]
    }
   ],
   "source": [
    "load_dotenv()\n",
    "api_key = os.getenv(\"EIA_API_KEY\")\n",
    "\n",
    "url = \"https://api.eia.gov/v2/electricity/rto/region-data/data/\"\n",
    "params = {\n",
    "    \"api_key\": api_key,\n",
    "    \"frequency\": \"hourly\",\n",
    "    \"data[0]\": \"value\",\n",
    "    \"sort[0][column]\": \"period\",\n",
    "    \"sort[0][direction]\": \"desc\",\n",
    "    \"offset\": 0,\n",
    "    \"length\": 5000\n",
    "}\n",
    "\n",
    "response = requests.get(url, params=params)\n",
    "data = response.json()\n",
    "\n",
    "print(data.keys())  # Should not say \"error\" now\n",
    "\n",
    "# Once we know the correct key path:\n",
    "df = pd.DataFrame(data[\"response\"][\"data\"])\n",
    "print(df.head())"
   ]
  },
  {
   "cell_type": "code",
   "execution_count": 23,
   "id": "13aa4f37",
   "metadata": {},
   "outputs": [
    {
     "name": "stdout",
     "output_type": "stream",
     "text": [
      "Data saved to Electricity.csv\n"
     ]
    }
   ],
   "source": [
    "# Save to CSV \n",
    "df.to_csv(\"Electricity.csv\", index=False)\n",
    "print(\"Data saved to Electricity.csv\")"
   ]
  },
  {
   "cell_type": "code",
   "execution_count": 2,
   "id": "734b2925",
   "metadata": {},
   "outputs": [],
   "source": [
    "#working locally\n",
    "df = pd.read_csv(\"Electricity.csv\")"
   ]
  },
  {
   "cell_type": "code",
   "execution_count": 3,
   "id": "1e76f302",
   "metadata": {},
   "outputs": [
    {
     "data": {
      "text/html": [
       "<div>\n",
       "<style scoped>\n",
       "    .dataframe tbody tr th:only-of-type {\n",
       "        vertical-align: middle;\n",
       "    }\n",
       "\n",
       "    .dataframe tbody tr th {\n",
       "        vertical-align: top;\n",
       "    }\n",
       "\n",
       "    .dataframe thead th {\n",
       "        text-align: right;\n",
       "    }\n",
       "</style>\n",
       "<table border=\"1\" class=\"dataframe\">\n",
       "  <thead>\n",
       "    <tr style=\"text-align: right;\">\n",
       "      <th></th>\n",
       "      <th>period</th>\n",
       "      <th>respondent</th>\n",
       "      <th>respondent-name</th>\n",
       "      <th>type</th>\n",
       "      <th>type-name</th>\n",
       "      <th>value</th>\n",
       "      <th>value-units</th>\n",
       "    </tr>\n",
       "  </thead>\n",
       "  <tbody>\n",
       "    <tr>\n",
       "      <th>0</th>\n",
       "      <td>2025-08-16T07</td>\n",
       "      <td>AVA</td>\n",
       "      <td>Avista Corporation</td>\n",
       "      <td>DF</td>\n",
       "      <td>Day-ahead demand forecast</td>\n",
       "      <td>1265</td>\n",
       "      <td>megawatthours</td>\n",
       "    </tr>\n",
       "    <tr>\n",
       "      <th>1</th>\n",
       "      <td>2025-08-16T07</td>\n",
       "      <td>AZPS</td>\n",
       "      <td>Arizona Public Service Company</td>\n",
       "      <td>DF</td>\n",
       "      <td>Day-ahead demand forecast</td>\n",
       "      <td>4860</td>\n",
       "      <td>megawatthours</td>\n",
       "    </tr>\n",
       "    <tr>\n",
       "      <th>2</th>\n",
       "      <td>2025-08-16T07</td>\n",
       "      <td>BANC</td>\n",
       "      <td>Balancing Authority of Northern California</td>\n",
       "      <td>DF</td>\n",
       "      <td>Day-ahead demand forecast</td>\n",
       "      <td>2331</td>\n",
       "      <td>megawatthours</td>\n",
       "    </tr>\n",
       "    <tr>\n",
       "      <th>3</th>\n",
       "      <td>2025-08-16T07</td>\n",
       "      <td>BPAT</td>\n",
       "      <td>Bonneville Power Administration</td>\n",
       "      <td>DF</td>\n",
       "      <td>Day-ahead demand forecast</td>\n",
       "      <td>6038</td>\n",
       "      <td>megawatthours</td>\n",
       "    </tr>\n",
       "    <tr>\n",
       "      <th>4</th>\n",
       "      <td>2025-08-16T07</td>\n",
       "      <td>CAL</td>\n",
       "      <td>California</td>\n",
       "      <td>DF</td>\n",
       "      <td>Day-ahead demand forecast</td>\n",
       "      <td>34319</td>\n",
       "      <td>megawatthours</td>\n",
       "    </tr>\n",
       "  </tbody>\n",
       "</table>\n",
       "</div>"
      ],
      "text/plain": [
       "          period respondent                             respondent-name type  \\\n",
       "0  2025-08-16T07        AVA                          Avista Corporation   DF   \n",
       "1  2025-08-16T07       AZPS              Arizona Public Service Company   DF   \n",
       "2  2025-08-16T07       BANC  Balancing Authority of Northern California   DF   \n",
       "3  2025-08-16T07       BPAT             Bonneville Power Administration   DF   \n",
       "4  2025-08-16T07        CAL                                  California   DF   \n",
       "\n",
       "                   type-name  value    value-units  \n",
       "0  Day-ahead demand forecast   1265  megawatthours  \n",
       "1  Day-ahead demand forecast   4860  megawatthours  \n",
       "2  Day-ahead demand forecast   2331  megawatthours  \n",
       "3  Day-ahead demand forecast   6038  megawatthours  \n",
       "4  Day-ahead demand forecast  34319  megawatthours  "
      ]
     },
     "execution_count": 3,
     "metadata": {},
     "output_type": "execute_result"
    }
   ],
   "source": [
    "df.head()  "
   ]
  }
 ],
 "metadata": {
  "kernelspec": {
   "display_name": "Python 3",
   "language": "python",
   "name": "python3"
  },
  "language_info": {
   "codemirror_mode": {
    "name": "ipython",
    "version": 3
   },
   "file_extension": ".py",
   "mimetype": "text/x-python",
   "name": "python",
   "nbconvert_exporter": "python",
   "pygments_lexer": "ipython3",
   "version": "3.13.7"
  }
 },
 "nbformat": 4,
 "nbformat_minor": 5
}
